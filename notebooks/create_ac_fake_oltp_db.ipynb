{
 "cells": [
  {
   "cell_type": "markdown",
   "metadata": {},
   "source": [
    "## Clonando o repositório do projeto\n",
    "\n",
    "Se você chegou até aqui e está desenvolvendo no ambiente do Google Colab, execute a célula abaixo para clonar o repositório no ambiente do Google: "
   ]
  },
  {
   "cell_type": "code",
   "execution_count": null,
   "metadata": {},
   "outputs": [],
   "source": [
    "!git clone https://github.com/observatorio-do-amanha-ac/sandbox.git"
   ]
  },
  {
   "cell_type": "markdown",
   "metadata": {},
   "source": [
    "Ao lado, clicando no ícone que representa uma pasta, você deve ver o diretório `sandbox` contendo todos os arquivos do repositório. \n",
    "\n",
    "Parabéns! Agora podemos começar! :D"
   ]
  },
  {
   "cell_type": "markdown",
   "metadata": {},
   "source": [
    "### Instalação das bibliotecas externas\n",
    "\n",
    "Quem optar por desenvolver localmente, ou seja, em um notebook rodando na sua própria máquina, não se esqueça de instalar as seguintes bibliotecas conforme descrito no README do repositório: \n",
    "\n",
    "- pandas (pip install pandas)\n",
    "- faker (pip install faker)\n",
    "- duckdb (pip install duckdb)\n",
    "- ipython_sql (pip install ipython_sql)\n",
    "\n",
    "Para as pessoas que optarem pelo desenvolvimento integrado ao Google Colab, deve executar as células abaixo (o pandas já está instalado por padrão no ambiente do Google):\n"
   ]
  },
  {
   "cell_type": "code",
   "execution_count": null,
   "metadata": {
    "colab": {
     "base_uri": "https://localhost:8080/"
    },
    "executionInfo": {
     "elapsed": 13520,
     "status": "ok",
     "timestamp": 1724899189577,
     "user": {
      "displayName": "Tiago Henrique",
      "userId": "05859948121194844407"
     },
     "user_tz": 180
    },
    "id": "d8abGmhVgtvj",
    "outputId": "e605bb4f-4cdd-486d-f344-d443ee20e858"
   },
   "outputs": [],
   "source": [
    "!pip install faker"
   ]
  },
  {
   "cell_type": "code",
   "execution_count": null,
   "metadata": {},
   "outputs": [],
   "source": [
    "!pip install duckdb"
   ]
  },
  {
   "cell_type": "markdown",
   "metadata": {},
   "source": [
    "## Importando as bibliotecas que iremos utilizar"
   ]
  },
  {
   "cell_type": "code",
   "execution_count": 1,
   "metadata": {
    "id": "ION3dvEDKQ7E"
   },
   "outputs": [],
   "source": [
    "import os\n",
    "from datetime import date, datetime\n",
    "import uuid\n",
    "import sqlite3\n",
    "import pandas as pd\n",
    "from sqlalchemy import create_engine, text\n",
    "import random\n",
    "from faker import Faker\n"
   ]
  },
  {
   "cell_type": "markdown",
   "metadata": {},
   "source": [
    "## Definindo o caminho do banco de dados"
   ]
  },
  {
   "cell_type": "markdown",
   "metadata": {},
   "source": [
    "### Para desenvolvimento em um notebook local\n",
    "\n",
    "Caso você opte por clonar o repositório para desenvolver localmente, utilize o código abaixo para garantir o caminho exato do arquivo `sqlite`:"
   ]
  },
  {
   "cell_type": "code",
   "execution_count": 2,
   "metadata": {},
   "outputs": [],
   "source": [
    "base_path = os.path.dirname(os.getcwd())\n",
    "database_dir = os.path.join(base_path, \"databases\")\n",
    "\n",
    "db_oltp_file = \"sqlite_oltp_ac_fake_database.db\"\n",
    "db_olap_file =  \"duckdb_olap_ac_fake_database.duckdb\"\n",
    "\n",
    "db_oltp_path = os.path.join(database_dir, db_oltp_file) \n",
    "db_olap_path = os.path.join(database_dir, db_olap_file)\n"
   ]
  },
  {
   "cell_type": "markdown",
   "metadata": {},
   "source": [
    "### Para desenvolver no ambiente do Google Colab\n",
    "\n",
    "Caso você queira utilizar o ambiente do Google Colaba para desenvolvimento, utilize o caminho do arquivo de dos bancos de dados seguindo clicando nos \"3 pontinhos\" ao lado direito dos arquivos na pasta `datasets` e escolhendo a opção \"Copiar Caminho\":"
   ]
  },
  {
   "cell_type": "code",
   "execution_count": null,
   "metadata": {},
   "outputs": [],
   "source": [
    "# Define os caminhos do banco de dados no Colab\n",
    "db_oltp_path = \"/content/sandbox/databases/sqlite_oltp_ac_fake_database.db\"\n",
    "db_olap_path = \"/content/sandbox/databases/duckdb_olap_ac_fake_database.duckdb\""
   ]
  },
  {
   "cell_type": "markdown",
   "metadata": {
    "id": "vNLGuMYP20DB"
   },
   "source": [
    "## Restaura arquivo banco de dados\n",
    "\n",
    "Essa função pode ser utilizada para restaurar o banco do zero caso você encontre algum problema... vai que, né?"
   ]
  },
  {
   "cell_type": "code",
   "execution_count": 3,
   "metadata": {
    "colab": {
     "base_uri": "https://localhost:8080/"
    },
    "executionInfo": {
     "elapsed": 374,
     "status": "ok",
     "timestamp": 1724853394767,
     "user": {
      "displayName": "Tiago Henrique",
      "userId": "05859948121194844407"
     },
     "user_tz": 180
    },
    "id": "tEH_KePyvB6R",
    "outputId": "e37d1564-4c75-4160-aa55-d6bad31a0173"
   },
   "outputs": [],
   "source": [
    "# Esta função restaura o arquivo de banco de dados\n",
    "def db_restore(db_path):\n",
    "    \n",
    "    # Verifica se o arquivo existe\n",
    "    if os.path.exists(db_path):\n",
    "        # Remove o arquivo existente\n",
    "        os.remove(db_path)\n",
    "        print(f\"Arquivo {db_path} removido.\")\n",
    "    else:\n",
    "        print(f\"Arquivo {db_path} não encontrado.\")\n",
    "    \n",
    "    # Cria um novo arquivo SQLite\n",
    "    with open(db_path, 'w') as file:\n",
    "        pass  # Não adiciona nada ao arquivo\n",
    "    \n",
    "    print(f\"Arquivo {db_path} criado ou substituído.\")\n",
    "    "
   ]
  },
  {
   "cell_type": "code",
   "execution_count": 4,
   "metadata": {},
   "outputs": [
    {
     "name": "stdout",
     "output_type": "stream",
     "text": [
      "Arquivo /home/tiago/workspace/repos/observatorio-do-amanha/sandbox/databases/sqlite_oltp_ac_fake_database.db removido.\n",
      "Arquivo /home/tiago/workspace/repos/observatorio-do-amanha/sandbox/databases/sqlite_oltp_ac_fake_database.db criado ou substituído.\n"
     ]
    }
   ],
   "source": [
    "db_restore(db_oltp_path) "
   ]
  },
  {
   "cell_type": "markdown",
   "metadata": {
    "id": "2wmvGk6l3Lz6"
   },
   "source": [
    "## Abre a conexão com os bancos de dados"
   ]
  },
  {
   "cell_type": "code",
   "execution_count": 5,
   "metadata": {
    "id": "Y0222yLdN_5H"
   },
   "outputs": [],
   "source": [
    "# Conexão ao banco de dados SQLite\n",
    "sqlite_conn = sqlite3.connect(db_oltp_path)\n",
    "cursor = sqlite_conn.cursor()"
   ]
  },
  {
   "cell_type": "code",
   "execution_count": null,
   "metadata": {},
   "outputs": [],
   "source": [
    "# Conexão ao banco de dados DuckDB \n",
    "duckdb_conn = duckdb.connect(db_olap_path)"
   ]
  },
  {
   "cell_type": "markdown",
   "metadata": {
    "id": "u1S7W-tNO2bo"
   },
   "source": [
    "## Define o Schema dobanco de dados transacional"
   ]
  },
  {
   "cell_type": "code",
   "execution_count": 6,
   "metadata": {
    "colab": {
     "base_uri": "https://localhost:8080/"
    },
    "executionInfo": {
     "elapsed": 356,
     "status": "ok",
     "timestamp": 1724855122575,
     "user": {
      "displayName": "Tiago Henrique",
      "userId": "05859948121194844407"
     },
     "user_tz": 180
    },
    "id": "bOixsCxrNX2R",
    "outputId": "80f9f5a3-fbf8-4b4e-d650-413207fb6e55"
   },
   "outputs": [
    {
     "name": "stdout",
     "output_type": "stream",
     "text": [
      "Tabelas criadas com sucesso!\n"
     ]
    }
   ],
   "source": [
    "# Script para criar as tabelas\n",
    "schema_script = \"\"\"\n",
    "CREATE TABLE IF NOT EXISTS CAD_PESSOA (\n",
    "    ID_PESSOA TEXT UNIQUE PRIMARY KEY,\n",
    "    NOME VARCHAR(100) NOT NULL,\n",
    "    CPF VARCHAR(11) UNIQUE NOT NULL,\n",
    "    DATA_NASC DATE NOT NULL,\n",
    "    GENERO VARCHAR(20),\n",
    "    ORIENTACAO_SEXUAL VARCHAR(20),\n",
    "    RACA_ETNIA VARCHAR(50),\n",
    "    ESCOLARIDADE VARCHAR(50),\n",
    "    ESTADO_CIVIL VARCHAR(20),\n",
    "    FAIXA_DE_RENDA VARCHAR(50),\n",
    "    AREA_DE_ATUACAO VARCHAR(100),\n",
    "    TELEFONE VARCHAR(15),\n",
    "    EMAIL VARCHAR(100) UNIQUE,\n",
    "    URL_REDE_SOCIAL VARCHAR(255),\n",
    "    ENDERECO VARCHAR(255),\n",
    "    CEP VARCHAR(10),\n",
    "    LOGRADOURO VARCHAR(100),\n",
    "    NUMERO VARCHAR(10),\n",
    "    BAIRRO VARCHAR(100),\n",
    "    CIDADE VARCHAR(100),\n",
    "    ESTADO VARCHAR(2),\n",
    "    PAIS VARCHAR(100),\n",
    "    DATA_VISITA DATE\n",
    ");\n",
    "\n",
    "CREATE TABLE IF NOT EXISTS ONU_ODS (\n",
    "    ID_ODS INTEGER PRIMARY KEY AUTOINCREMENT,\n",
    "    NOME_ODS VARCHAR(100) NOT NULL\n",
    ");\n",
    "\n",
    "CREATE TABLE IF NOT EXISTS DOMINIOS (\n",
    "    ID_DOMINIO INTEGER PRIMARY KEY AUTOINCREMENT,\n",
    "    NOME_DOMINIO VARCHAR(100) NOT NULL,\n",
    "    RESPONSAVEL_DOMINIO VARCHAR(100) NOT NULL\n",
    ");\n",
    "\n",
    "CREATE TABLE IF NOT EXISTS SERVICOS (\n",
    "    ID_SERVICO INTEGER PRIMARY KEY AUTOINCREMENT,\n",
    "    TITULO_SERVICO VARCHAR(100) NOT NULL\n",
    ");\n",
    "\n",
    "CREATE TABLE IF NOT EXISTS PROGRAMAS (\n",
    "    ID_PROGRAMA TEXT UNIQUE PRIMARY KEY,\n",
    "    ID_DOMINIO INTEGER NOT NULL,\n",
    "    TITULO_PROGRAMA VARCHAR(100) NOT NULL,\n",
    "    FOREIGN KEY (ID_DOMINIO) REFERENCES DOMINIOS(ID_DOMINIO)\n",
    ");\n",
    "\n",
    "CREATE TABLE IF NOT EXISTS PROGRAMA_ODS (\n",
    "    ID_PROGRAMA TEXT NOT NULL,\n",
    "    ID_ODS INTEGER NOT NULL,\n",
    "    PRIMARY KEY (ID_PROGRAMA, ID_ODS),\n",
    "    FOREIGN KEY (ID_PROGRAMA) REFERENCES PROGRAMAS(ID_PROGRAMA),\n",
    "    FOREIGN KEY (ID_ODS) REFERENCES ONU_ODS(ID_ODS)\n",
    ");\n",
    "\n",
    "CREATE TABLE IF NOT EXISTS INSCRICOES (\n",
    "    ID_INSCRICAO TEXT UNIQUE PRIMARY KEY,\n",
    "    ID_PROGRAMA TEXT NOT NULL,\n",
    "    ID_PESSOA TEXT NOT NULL,\n",
    "    DATA_INSCRICAO DATE NOT NULL,\n",
    "    FOREIGN KEY (ID_PROGRAMA) REFERENCES PROGRAMAS(ID_PROGRAMA),\n",
    "    FOREIGN KEY (ID_PESSOA) REFERENCES CAD_PESSOA(ID_PESSOA)\n",
    ");\n",
    "\n",
    "CREATE TABLE IF NOT EXISTS PARTICIPANTE_PROGRAMA (\n",
    "    ID_PROGRAMA TEXT NOT NULL,\n",
    "    ID_INSCRICAO TEXT NOT NULL,\n",
    "    PRIMARY KEY (ID_PROGRAMA, ID_INSCRICAO),\n",
    "    FOREIGN KEY (ID_PROGRAMA) REFERENCES PROGRAMAS(ID_PROGRAMA),\n",
    "    FOREIGN KEY (ID_INSCRICAO) REFERENCES INSCRICOES(ID_INSCRICAO)\n",
    ");\n",
    "\n",
    "CREATE TABLE IF NOT EXISTS AGENDAMENTO_SERVICO (\n",
    "    ID_AGENDAMENTO INTEGER PRIMARY KEY AUTOINCREMENT,\n",
    "    ID_PESSOA TEXT NOT NULL,\n",
    "    ID_SERVICO INTEGER NOT NULL,\n",
    "    DATETIME_AGENDAMENTO DATETIME NOT NULL,\n",
    "    FOREIGN KEY (ID_PESSOA) REFERENCES CAD_PESSOA(ID_PESSOA),\n",
    "    FOREIGN KEY (ID_SERVICO) REFERENCES SERVICOS(ID_SERVICO)\n",
    ");\n",
    "\"\"\"\n",
    "\n",
    "# Executar o script SQL para criar as tabelas\n",
    "cursor.executescript(schema_script)\n",
    "\n",
    "# Confirmar as alterações e fechar a conexão\n",
    "sqlite_conn.commit()\n",
    "\n",
    "print(\"Tabelas criadas com sucesso!\")"
   ]
  },
  {
   "cell_type": "code",
   "execution_count": 7,
   "metadata": {
    "colab": {
     "base_uri": "https://localhost:8080/"
    },
    "executionInfo": {
     "elapsed": 344,
     "status": "ok",
     "timestamp": 1724855369783,
     "user": {
      "displayName": "Tiago Henrique",
      "userId": "05859948121194844407"
     },
     "user_tz": 180
    },
    "id": "7OUCu6aLmbw2",
    "outputId": "e0737389-f71e-4232-962d-9cafa07f460b"
   },
   "outputs": [
    {
     "name": "stdout",
     "output_type": "stream",
     "text": [
      "Tabelas no banco de dados:\n",
      "CAD_PESSOA\n",
      "ONU_ODS\n",
      "sqlite_sequence\n",
      "DOMINIOS\n",
      "SERVICOS\n",
      "PROGRAMAS\n",
      "PROGRAMA_ODS\n",
      "INSCRICOES\n",
      "PARTICIPANTE_PROGRAMA\n",
      "AGENDAMENTO_SERVICO\n"
     ]
    }
   ],
   "source": [
    "# Consultar as tabelas existentes\n",
    "cursor.execute(\"SELECT name FROM sqlite_master WHERE type='table';\")\n",
    "\n",
    "# Recuperar e imprimir os nomes das tabelas\n",
    "tables = cursor.fetchall()\n",
    "print(\"Tabelas no banco de dados:\")\n",
    "for table in tables:\n",
    "    print(table[0])\n"
   ]
  },
  {
   "cell_type": "markdown",
   "metadata": {
    "id": "fiAB0pt2k3ij"
   },
   "source": [
    "## CAD_PESSOA"
   ]
  },
  {
   "cell_type": "code",
   "execution_count": 8,
   "metadata": {
    "id": "caGi0mxErrWB"
   },
   "outputs": [],
   "source": [
    "fake = Faker('pt_BR')\n",
    "# Cria uma quantidade determinada de registros aleatórios no banco sqlite\n",
    "def insert_into_cad_pessoa(qtd_registros=10):\n",
    "    bairros = [\n",
    "        \"Agamenon Magalhães\", \"Alto do Moura\", \"Boa Vista\", \"Caiucá\", \"Cedro\", \"Centro\", \"Cidade Jardim\",\n",
    "        \"Cohab I\", \"Cohab II\", \"Divinópolis\", \"Indianópolis\", \"Jardim Panorama\", \"João Mota\", \"Lagoa do Algodão\",\n",
    "        \"Maurício de Nassau\", \"Monte Bom Jesus\", \"Nova Caruaru\", \"Petrópolis\", \"Pinheirópolis\", \"Salgado\",\n",
    "        \"Rendeiras\", \"Santa Clara\", \"São Francisco\", \"São José\", \"São João da Escócia\", \"Universitário\",\n",
    "        \"Vassoural\", \"Vila Kennedy\", \"Xique xique\"\n",
    "    ]\n",
    "    emails_gerados = set()  # Conjunto para garantir unicidade dos e-mails\n",
    "    cpfs_gerados = set()  # Conjunto para garantir unicidade dos CPFs\n",
    "\n",
    "    for _ in range(qtd_registros):\n",
    "        id_pessoa = str(uuid.uuid4())\n",
    "        nome = fake.name()\n",
    "\n",
    "        # Garantir que o CPF seja único\n",
    "        cpf = fake.cpf()\n",
    "        while cpf in cpfs_gerados:\n",
    "            cpf = fake.cpf()\n",
    "        cpfs_gerados.add(cpf)\n",
    "\n",
    "        data_nasc = fake.date_of_birth(minimum_age=18, maximum_age=90).strftime('%Y-%m-%d')\n",
    "        genero = random.choice(['Masculino', 'Feminino', 'Outro'])\n",
    "        orientacao_sexual = random.choice(['Heterossexual', 'Homossexual', 'Bissexual', 'Outro'])\n",
    "        raca_etnia = random.choice(['Branca', 'Preta', 'Parda', 'Amarela', 'Indígena'])\n",
    "        escolaridade = random.choice(['Ensino Fundamental', 'Ensino Médio', 'Ensino Superior', 'Pós-graduação'])\n",
    "        estado_civil = random.choice(['Solteiro', 'Casado', 'Divorciado', 'Viúvo'])\n",
    "        faixa_de_renda = random.choice(['Até 1 salário mínimo', '1 a 3 salários mínimos', '3 a 5 salários mínimos', 'Mais de 5 salários mínimos'])\n",
    "        area_de_atuacao = random.choice(['Tecnologia', 'Educação', 'Saúde', 'Comércio', 'Indústria', 'Serviços'])\n",
    "        telefone = fake.phone_number()\n",
    "        \n",
    "        # Garantir que o e-mail seja único\n",
    "        email = fake.email()\n",
    "        while email in emails_gerados:\n",
    "            email = fake.email()\n",
    "        emails_gerados.add(email)\n",
    "\n",
    "        url_rede_social = fake.url()\n",
    "        endereco = fake.street_address()\n",
    "        cep = fake.postcode()\n",
    "        logradouro = fake.street_name()\n",
    "        numero = str(fake.building_number())\n",
    "        bairro = random.choice(bairros)\n",
    "        cidade = 'Caruaru'\n",
    "        estado = 'PE'\n",
    "        pais = 'Brasil'\n",
    "        data_visita = fake.date_this_year().strftime('%Y-%m-%d')\n",
    "\n",
    "        # Inserir os dados na tabela CAD_PESSOA\n",
    "        cursor.execute('''\n",
    "            INSERT INTO CAD_PESSOA (\n",
    "                ID_PESSOA, NOME, CPF, DATA_NASC, GENERO, ORIENTACAO_SEXUAL, RACA_ETNIA, ESCOLARIDADE, ESTADO_CIVIL,\n",
    "                FAIXA_DE_RENDA, AREA_DE_ATUACAO, TELEFONE, EMAIL, URL_REDE_SOCIAL, ENDERECO, CEP, LOGRADOURO,\n",
    "                NUMERO, BAIRRO, CIDADE, ESTADO, PAIS, DATA_VISITA\n",
    "            ) VALUES (?, ?, ?, ?, ?, ?, ?, ?, ?, ?, ?, ?, ?, ?, ?, ?, ?, ?, ?, ?, ?, ?, ?)\n",
    "        ''', (id_pessoa, nome, cpf, data_nasc, genero, orientacao_sexual, raca_etnia, escolaridade, estado_civil, faixa_de_renda,\n",
    "              area_de_atuacao, telefone, email, url_rede_social, endereco, cep, logradouro, numero, bairro, cidade, estado,\n",
    "              pais, data_visita))\n",
    "\n",
    "    # Confirmar as alterações\n",
    "    sqlite_conn.commit()\n",
    "\n",
    "# Inserir 1000 registros fictícios na tabela CAD_PESSOA\n",
    "insert_into_cad_pessoa(1000)\n",
    "\n"
   ]
  },
  {
   "cell_type": "markdown",
   "metadata": {
    "id": "jmPp2hZlxROZ"
   },
   "source": [
    "## ONU_ODS"
   ]
  },
  {
   "cell_type": "code",
   "execution_count": 9,
   "metadata": {
    "id": "0rfF4l46xSSM"
   },
   "outputs": [],
   "source": [
    "ods = [\n",
    "    \"Erradicação da pobreza\",\n",
    "    \"Fome zero e agricultura sustentável\",\n",
    "    \"Saúde e bem-estar\",\n",
    "    \"Educação de qualidade\",\n",
    "    \"Igualdade de gênero\",\n",
    "    \"Água potável e saneamento\",\n",
    "    \"Energia limpa e sustentável\",\n",
    "    \"Trabalho decente e inclusão social\",\n",
    "    \"Indústria, inovação e infraestrutura\",\n",
    "    \"Redução das desigualdades\",\n",
    "    \"Cidades e comunidades sustentáveis\",\n",
    "    \"Consumo e produção sustentáveis\",\n",
    "    \"Ação contra mudança global do clima\",\n",
    "    \"Vida na água\",\n",
    "    \"Vida terrestre\",\n",
    "    \"Paz, justiça e participação humanitária\",\n",
    "    \"Parcerias e meios de implementação\",\n",
    "]\n",
    "\n",
    "def insert_into_onu_ods(ods_list):\n",
    "\n",
    "    for ods in ods_list:\n",
    "        cursor.execute('''\n",
    "            INSERT INTO ONU_ODS (NOME_ODS)\n",
    "            VALUES (?)\n",
    "        ''', (ods,))\n",
    "\n",
    "    sqlite_conn.commit()\n",
    "\n",
    "insert_into_onu_ods(ods)\n"
   ]
  },
  {
   "cell_type": "markdown",
   "metadata": {
    "id": "Q9T-gfikxZn6"
   },
   "source": [
    "## DOMINIOS"
   ]
  },
  {
   "cell_type": "code",
   "execution_count": 10,
   "metadata": {
    "id": "RsCLNyrfhE80"
   },
   "outputs": [],
   "source": [
    "# Dicionário que mapeia cada domínio ao seu respectivo responsável\n",
    "mapa_dominio_responsavel = {\n",
    "    \"Gestão\": \"Pâmela\",\n",
    "    \"Inovação Aberta\": \"Lais\",\n",
    "    \"Equidade de gênero\": \"Gabi\",\n",
    "    \"Empreendedorismo\": \"Mirelli\",\n",
    "    \"Suporte em TI\": \"Lucas\",\n",
    "    \"Comunicação e Marketing\": \"Bono\"\n",
    "}\n",
    "\n",
    "def inserir_into_dominios(map):\n",
    "\n",
    "\n",
    "    nomes_dominios = list(map.keys())\n",
    "    responsaveis_dominio = list(map.values())\n",
    "    qtd_dominios = len(nomes_dominios)\n",
    "\n",
    "    for i in range(qtd_dominios):\n",
    "\n",
    "        # Selecionar o responsável correspondente ao domínio\n",
    "        responsavel_dominio = responsaveis_dominio[i]\n",
    "        nome_dominio = nomes_dominios[i]\n",
    "\n",
    "        cursor.execute('''\n",
    "            INSERT INTO DOMINIOS (NOME_DOMINIO, RESPONSAVEL_DOMINIO)\n",
    "            VALUES (?, ?)\n",
    "        ''', (nome_dominio, responsavel_dominio))\n",
    "\n",
    "    sqlite_conn.commit()\n",
    "\n",
    "\n",
    "inserir_into_dominios(mapa_dominio_responsavel)"
   ]
  },
  {
   "cell_type": "markdown",
   "metadata": {
    "id": "mPhtSyEoxdqz"
   },
   "source": [
    "## SERVICOS"
   ]
  },
  {
   "cell_type": "code",
   "execution_count": 11,
   "metadata": {
    "id": "79pZFQHWgMns"
   },
   "outputs": [],
   "source": [
    "servicos = [\n",
    "    \"Coworking\",\n",
    "    \"Laboratórios de Criação e Prototipagem\",\n",
    "    \"Capacitação e Formação\",\n",
    "    \"Apoio a Startups\",\n",
    "    \"Eventos e Networking\",\n",
    "]\n",
    "\n",
    "def insert_into_servicos(lista_servicos):\n",
    "\n",
    "    for servico in lista_servicos:\n",
    "        cursor.execute('''\n",
    "            INSERT INTO SERVICOS (TITULO_SERVICO)\n",
    "            VALUES (?)\n",
    "        ''', (servico,))\n",
    "\n",
    "    sqlite_conn.commit()\n",
    "\n",
    "insert_into_servicos(servicos)"
   ]
  },
  {
   "cell_type": "markdown",
   "metadata": {
    "id": "45jmfwcWxkeV"
   },
   "source": [
    "## PROGRAMAS"
   ]
  },
  {
   "cell_type": "code",
   "execution_count": 12,
   "metadata": {
    "id": "0Dc3wircf3K_"
   },
   "outputs": [],
   "source": [
    "programas_dominios = {\n",
    "    \"Clubes de Programação\": 3,\n",
    "    \"Elas que Lideram\": 3,\n",
    "    \"Mulheres no Alto\": 3,\n",
    "    \"Minas Data Lab\": 3,\n",
    "    \"Transforma\": 3,\n",
    "    \"Minas na Produção\": 3,\n",
    "    \"Agreste Futurista\": 3,\n",
    "    \"Observatório do amanhã\":2,\n",
    "    \"Desafios de sustentabilidade\": 2,\n",
    "    \"MMA (moda x música x audiovisual)\": 2,\n",
    "    \".GOV + Dotlab\": 2,\n",
    "    \"Ciclo de inovação aberta\": 2,\n",
    "    \"Incubação\":4,\n",
    "    \"Mind the Bizz\": 4,\n",
    "    \"Agreste Moda\": 4,\n",
    "}\n",
    "\n",
    "def insert_into_programa():\n",
    "\n",
    "    titulos_programas = list(programas_dominios.keys())\n",
    "    dominios_programas = list(programas_dominios.values())\n",
    "    qtd_programas = len(titulos_programas)\n",
    "\n",
    "    for i in range(qtd_programas):\n",
    "\n",
    "        id_programa = str(uuid.uuid4())\n",
    "        titulo_programa = titulos_programas[i]\n",
    "        id_dominio_programa = dominios_programas[i]\n",
    "        cursor.execute('''\n",
    "            INSERT INTO PROGRAMAS (ID_PROGRAMA, ID_DOMINIO, TITULO_PROGRAMA)\n",
    "            VALUES (?, ?, ?)\n",
    "        ''', (id_programa, id_dominio_programa, titulo_programa))\n",
    "\n",
    "    sqlite_conn.commit()\n",
    "\n",
    "insert_into_programa()"
   ]
  },
  {
   "cell_type": "markdown",
   "metadata": {
    "id": "WF7vXz_8x3bj"
   },
   "source": [
    "## PROGRAMA_ODS"
   ]
  },
  {
   "cell_type": "code",
   "execution_count": null,
   "metadata": {
    "id": "JUimY0nquPPi"
   },
   "outputs": [],
   "source": [
    "## Todo"
   ]
  },
  {
   "cell_type": "markdown",
   "metadata": {
    "id": "bpZHQ-jEyA5C"
   },
   "source": [
    "## INSCRICOES"
   ]
  },
  {
   "cell_type": "code",
   "execution_count": 13,
   "metadata": {
    "id": "FDmCGQbsZ39p"
   },
   "outputs": [],
   "source": [
    "def insert_into_inscricoes_programas(qtd_registros=10):\n",
    "    cursor.execute(\"SELECT ID_PESSOA FROM CAD_PESSOA\")\n",
    "    pessoas = cursor.fetchall()\n",
    "    cursor.execute(\"SELECT ID_PROGRAMA FROM PROGRAMAS\")\n",
    "    programas = cursor.fetchall()\n",
    "\n",
    "    # Define o intervalo de datas\n",
    "    data_inicio = date(2024, 1, 15)\n",
    "    data_fim = date(2024, 8, 1)\n",
    "\n",
    "    for _ in range(qtd_registros):\n",
    "        id_inscricao = str(uuid.uuid4())\n",
    "        id_programa = random.choice(programas)[0]\n",
    "        id_pessoa = random.choice(pessoas)[0]\n",
    "        data_inscricao = fake.date_between(start_date=data_inicio, end_date=data_fim).strftime('%Y-%m-%d')\n",
    "\n",
    "        cursor.execute('''\n",
    "            INSERT INTO INSCRICOES (ID_INSCRICAO, ID_PROGRAMA, ID_PESSOA, DATA_INSCRICAO)\n",
    "            VALUES (?, ?, ?, ?)\n",
    "        ''', (id_inscricao, id_programa, id_pessoa, data_inscricao))\n",
    "\n",
    "    sqlite_conn.commit()\n",
    "\n",
    "insert_into_inscricoes_programas(350)"
   ]
  },
  {
   "cell_type": "markdown",
   "metadata": {
    "id": "cNAoyr1FyI29"
   },
   "source": [
    "## PARTICIPANTE_PROGRAMA"
   ]
  },
  {
   "cell_type": "code",
   "execution_count": 14,
   "metadata": {
    "id": "WUyludqc3t3q"
   },
   "outputs": [],
   "source": [
    "def insert_into_programas_participante(qtd_registros=10):\n",
    "    cursor.execute(\"SELECT ID_PROGRAMA FROM PROGRAMAS\")\n",
    "    programas = cursor.fetchall()\n",
    "    cursor.execute(\"SELECT ID_INSCRICAO FROM INSCRICOES\")\n",
    "    inscricoes = cursor.fetchall()\n",
    "\n",
    "    for _ in range(qtd_registros):\n",
    "        id_inscricao = random.choice(inscricoes)[0]\n",
    "        id_programa = random.choice(programas)[0]\n",
    "\n",
    "        # Verifica se a combinação já existe\n",
    "        cursor.execute('''\n",
    "            SELECT COUNT(*) FROM PARTICIPANTE_PROGRAMA\n",
    "            WHERE ID_PROGRAMA = ? AND ID_INSCRICAO = ?\n",
    "        ''', (id_programa, id_inscricao))\n",
    "\n",
    "        if cursor.fetchone()[0] == 0:\n",
    "            cursor.execute('''\n",
    "                INSERT INTO PARTICIPANTE_PROGRAMA (ID_PROGRAMA, ID_INSCRICAO)\n",
    "                VALUES (?, ?)\n",
    "            ''', (id_programa, id_inscricao))\n",
    "\n",
    "    sqlite_conn.commit()\n",
    "\n",
    "insert_into_programas_participante(250)"
   ]
  },
  {
   "cell_type": "markdown",
   "metadata": {
    "id": "PcOOSbcyyizL"
   },
   "source": [
    "## AGENDAMENTO_SERVICO"
   ]
  },
  {
   "cell_type": "code",
   "execution_count": 15,
   "metadata": {
    "id": "B500uvhugmOS"
   },
   "outputs": [],
   "source": [
    "def insert_into_agendamento_servico(qtd_registros=10):\n",
    "    cursor.execute(\"SELECT ID_SERVICO FROM SERVICOS\")\n",
    "    servicos = cursor.fetchall()\n",
    "    cursor.execute(\"SELECT ID_PESSOA FROM CAD_PESSOA\")\n",
    "    pessoas = cursor.fetchall()\n",
    "\n",
    "     # Define o intervalo de datas\n",
    "    data_inicio = date(2024, 1, 15)\n",
    "    data_fim = date(2024, 8, 1)\n",
    "\n",
    "    for _ in range(qtd_registros):\n",
    "        # id_agendamento = str(uuid.uuid4()) um dia talvez eu precise dessa variável\n",
    "        id_servico = random.choice(servicos)[0]\n",
    "        id_pessoa = random.choice(pessoas)[0]\n",
    "        datetime_agendamento = fake.date_between(start_date=data_inicio, end_date=data_fim).strftime('%Y-%m-%d %H:%M:%S')\n",
    "\n",
    "        cursor.execute('''\n",
    "            INSERT INTO AGENDAMENTO_SERVICO (ID_SERVICO, ID_PESSOA, DATETIME_AGENDAMENTO)\n",
    "            VALUES (?, ?, ?)\n",
    "        ''', (id_servico, id_pessoa, datetime_agendamento))\n",
    "\n",
    "    sqlite_conn.commit()\n",
    "\n",
    "insert_into_agendamento_servico(500)"
   ]
  },
  {
   "cell_type": "markdown",
   "metadata": {
    "id": "885IGQtM_1nb"
   },
   "source": [
    "## Consultando o banco de dodos com python"
   ]
  },
  {
   "cell_type": "markdown",
   "metadata": {
    "id": "qerB0kzIDqOI"
   },
   "source": [
    "**Assim:**"
   ]
  },
  {
   "cell_type": "code",
   "execution_count": null,
   "metadata": {
    "colab": {
     "base_uri": "https://localhost:8080/"
    },
    "executionInfo": {
     "elapsed": 409,
     "status": "ok",
     "timestamp": 1724212308118,
     "user": {
      "displayName": "Tiago Henrique",
      "userId": "05859948121194844407"
     },
     "user_tz": 180
    },
    "id": "GZuLyKP3sQrl",
    "outputId": "69d40c25-4475-4742-8df1-e0780a45189f"
   },
   "outputs": [],
   "source": [
    "query = \"\"\"\n",
    "SELECT COUNT(*)\n",
    "FROM CAD_PESSOA\n",
    "\"\"\"\n",
    "cursor.execute(query)\n",
    "result = cursor.fetchall()\n",
    "\n",
    "for row in result:\n",
    "    print(row)\n"
   ]
  },
  {
   "cell_type": "markdown",
   "metadata": {
    "id": "oCSYm2lbDtaS"
   },
   "source": [
    "**Também assim:**"
   ]
  },
  {
   "cell_type": "code",
   "execution_count": null,
   "metadata": {
    "colab": {
     "base_uri": "https://localhost:8080/",
     "height": 516
    },
    "executionInfo": {
     "elapsed": 3327,
     "status": "ok",
     "timestamp": 1724212347646,
     "user": {
      "displayName": "Tiago Henrique",
      "userId": "05859948121194844407"
     },
     "user_tz": 180
    },
    "id": "xx0bKcvzyqqx",
    "outputId": "9bd89093-c7b0-4ed5-88c5-cfb4f833112b"
   },
   "outputs": [],
   "source": [
    "query = \"\"\"\n",
    "SELECT *\n",
    "FROM CAD_PESSOA\n",
    "\"\"\"\n",
    "cursor.execute(query)\n",
    "result = cursor.fetchall()\n",
    "\n",
    "# Instanciando um Objeto DataFrame:\n",
    "df_cad_pessoa = pd.DataFrame(result, columns=[column[0] for column in cursor.description])\n",
    "df_cad_pessoa.head()"
   ]
  },
  {
   "cell_type": "markdown",
   "metadata": {
    "id": "W0j_BgH2D1j8"
   },
   "source": [
    "**Ou assim:**"
   ]
  },
  {
   "cell_type": "code",
   "execution_count": null,
   "metadata": {
    "colab": {
     "base_uri": "https://localhost:8080/",
     "height": 516
    },
    "executionInfo": {
     "elapsed": 430,
     "status": "ok",
     "timestamp": 1724212574349,
     "user": {
      "displayName": "Tiago Henrique",
      "userId": "05859948121194844407"
     },
     "user_tz": 180
    },
    "id": "iF6PbhSNDfhq",
    "outputId": "591cd4b5-31b6-4fec-c22b-0eab9c96a56f"
   },
   "outputs": [],
   "source": [
    "query = \"\"\"\n",
    "SELECT *\n",
    "FROM CAD_PESSOA\n",
    "\"\"\"\n",
    "# Utilizando o método read_sql_query do pandas:\n",
    "df_cad_pessoa = pd.read_sql_query(query, conn)\n",
    "df_cad_pessoa.head()"
   ]
  },
  {
   "cell_type": "code",
   "execution_count": null,
   "metadata": {
    "id": "IjBldSEcCUZR"
   },
   "outputs": [],
   "source": [
    "sqlite_conn.close()"
   ]
  },
  {
   "cell_type": "markdown",
   "metadata": {
    "id": "kYdAB-tX_8eA"
   },
   "source": [
    "## Consultando o Banco utilizando SQL diretamente"
   ]
  },
  {
   "cell_type": "code",
   "execution_count": 16,
   "metadata": {
    "colab": {
     "base_uri": "https://localhost:8080/"
    },
    "executionInfo": {
     "elapsed": 393,
     "status": "ok",
     "timestamp": 1724211366672,
     "user": {
      "displayName": "Tiago Henrique",
      "userId": "05859948121194844407"
     },
     "user_tz": 180
    },
    "id": "CDfAbVmYAIG9",
    "outputId": "296bae4f-9c82-4f49-f163-8ac09c5e6e48"
   },
   "outputs": [],
   "source": [
    "%load_ext sql\n",
    "%sql sqlite:///{db_oltp_path}"
   ]
  },
  {
   "cell_type": "code",
   "execution_count": 17,
   "metadata": {
    "colab": {
     "base_uri": "https://localhost:8080/",
     "height": 456
    },
    "executionInfo": {
     "elapsed": 435,
     "status": "ok",
     "timestamp": 1724212671350,
     "user": {
      "displayName": "Tiago Henrique",
      "userId": "05859948121194844407"
     },
     "user_tz": 180
    },
    "id": "TRp6Ryn6AaUr",
    "outputId": "f1c6757b-745e-4923-cd39-0623546a6109"
   },
   "outputs": [
    {
     "name": "stdout",
     "output_type": "stream",
     "text": [
      " * sqlite:////home/tiago/workspace/repos/observatorio-do-amanha/sandbox/databases/sqlite_oltp_ac_fake_database.db\n",
      "Done.\n"
     ]
    },
    {
     "data": {
      "text/html": [
       "<table>\n",
       "    <thead>\n",
       "        <tr>\n",
       "            <th>ID_PESSOA</th>\n",
       "            <th>NOME</th>\n",
       "            <th>CPF</th>\n",
       "            <th>DATA_NASC</th>\n",
       "            <th>GENERO</th>\n",
       "            <th>ORIENTACAO_SEXUAL</th>\n",
       "            <th>RACA_ETNIA</th>\n",
       "            <th>ESCOLARIDADE</th>\n",
       "            <th>ESTADO_CIVIL</th>\n",
       "            <th>FAIXA_DE_RENDA</th>\n",
       "            <th>AREA_DE_ATUACAO</th>\n",
       "            <th>TELEFONE</th>\n",
       "            <th>EMAIL</th>\n",
       "            <th>URL_REDE_SOCIAL</th>\n",
       "            <th>ENDERECO</th>\n",
       "            <th>CEP</th>\n",
       "            <th>LOGRADOURO</th>\n",
       "            <th>NUMERO</th>\n",
       "            <th>BAIRRO</th>\n",
       "            <th>CIDADE</th>\n",
       "            <th>ESTADO</th>\n",
       "            <th>PAIS</th>\n",
       "            <th>DATA_VISITA</th>\n",
       "        </tr>\n",
       "    </thead>\n",
       "    <tbody>\n",
       "        <tr>\n",
       "            <td>a3a922ff-6f01-4212-a713-e0cd3cafbac9</td>\n",
       "            <td>Erick Sousa</td>\n",
       "            <td>189.352.674-73</td>\n",
       "            <td>1947-01-15</td>\n",
       "            <td>Feminino</td>\n",
       "            <td>Outro</td>\n",
       "            <td>Amarela</td>\n",
       "            <td>Ensino Médio</td>\n",
       "            <td>Viúvo</td>\n",
       "            <td>Mais de 5 salários mínimos</td>\n",
       "            <td>Comércio</td>\n",
       "            <td>+55 (051) 6687 4362</td>\n",
       "            <td>yrocha@example.org</td>\n",
       "            <td>http://www.rodrigues.br/</td>\n",
       "            <td>Ladeira Júlia da Rosa, 30</td>\n",
       "            <td>93829-322</td>\n",
       "            <td>Área Cassiano</td>\n",
       "            <td>707</td>\n",
       "            <td>Agamenon Magalhães</td>\n",
       "            <td>Caruaru</td>\n",
       "            <td>PE</td>\n",
       "            <td>Brasil</td>\n",
       "            <td>2024-08-20</td>\n",
       "        </tr>\n",
       "        <tr>\n",
       "            <td>93400d77-f64d-4c0c-89b6-ffc4dbaab85c</td>\n",
       "            <td>Dr. Ravy Novais</td>\n",
       "            <td>526.407.839-47</td>\n",
       "            <td>1945-07-15</td>\n",
       "            <td>Feminino</td>\n",
       "            <td>Heterossexual</td>\n",
       "            <td>Preta</td>\n",
       "            <td>Ensino Superior</td>\n",
       "            <td>Viúvo</td>\n",
       "            <td>3 a 5 salários mínimos</td>\n",
       "            <td>Comércio</td>\n",
       "            <td>+55 (081) 2823 1474</td>\n",
       "            <td>ana-clara64@example.net</td>\n",
       "            <td>https://www.duarte.com/</td>\n",
       "            <td>Residencial Gustavo Henrique Dias</td>\n",
       "            <td>96309710</td>\n",
       "            <td>Área Gael Henrique da Cruz</td>\n",
       "            <td>8</td>\n",
       "            <td>Cidade Jardim</td>\n",
       "            <td>Caruaru</td>\n",
       "            <td>PE</td>\n",
       "            <td>Brasil</td>\n",
       "            <td>2024-07-09</td>\n",
       "        </tr>\n",
       "        <tr>\n",
       "            <td>f191d203-ec67-4f20-8519-c7295a8f4b46</td>\n",
       "            <td>Rafael da Conceição</td>\n",
       "            <td>325.716.984-19</td>\n",
       "            <td>1961-03-11</td>\n",
       "            <td>Feminino</td>\n",
       "            <td>Heterossexual</td>\n",
       "            <td>Branca</td>\n",
       "            <td>Ensino Fundamental</td>\n",
       "            <td>Divorciado</td>\n",
       "            <td>3 a 5 salários mínimos</td>\n",
       "            <td>Educação</td>\n",
       "            <td>61 7153-7983</td>\n",
       "            <td>maria-cecilia24@example.net</td>\n",
       "            <td>https://cunha.br/</td>\n",
       "            <td>Núcleo Santos, 5</td>\n",
       "            <td>05128450</td>\n",
       "            <td>Parque de Silveira</td>\n",
       "            <td>89</td>\n",
       "            <td>Jardim Panorama</td>\n",
       "            <td>Caruaru</td>\n",
       "            <td>PE</td>\n",
       "            <td>Brasil</td>\n",
       "            <td>2024-07-10</td>\n",
       "        </tr>\n",
       "        <tr>\n",
       "            <td>c22d3d4b-fe82-4e54-98aa-d02bc94266f8</td>\n",
       "            <td>Carolina Freitas</td>\n",
       "            <td>703.492.586-00</td>\n",
       "            <td>1990-11-08</td>\n",
       "            <td>Outro</td>\n",
       "            <td>Bissexual</td>\n",
       "            <td>Preta</td>\n",
       "            <td>Ensino Superior</td>\n",
       "            <td>Solteiro</td>\n",
       "            <td>3 a 5 salários mínimos</td>\n",
       "            <td>Tecnologia</td>\n",
       "            <td>61 0922 5803</td>\n",
       "            <td>elisasousa@example.org</td>\n",
       "            <td>http://www.gomes.com/</td>\n",
       "            <td>Quadra Lucas Gabriel Cassiano, 57</td>\n",
       "            <td>74720-264</td>\n",
       "            <td>Praia de Mendes</td>\n",
       "            <td>73</td>\n",
       "            <td>Petrópolis</td>\n",
       "            <td>Caruaru</td>\n",
       "            <td>PE</td>\n",
       "            <td>Brasil</td>\n",
       "            <td>2024-06-04</td>\n",
       "        </tr>\n",
       "        <tr>\n",
       "            <td>c2279704-3e32-4c59-9a4d-cfc8bbdc1e14</td>\n",
       "            <td>Ravi Barbosa</td>\n",
       "            <td>431.270.956-43</td>\n",
       "            <td>2002-12-29</td>\n",
       "            <td>Outro</td>\n",
       "            <td>Heterossexual</td>\n",
       "            <td>Parda</td>\n",
       "            <td>Pós-graduação</td>\n",
       "            <td>Divorciado</td>\n",
       "            <td>Mais de 5 salários mínimos</td>\n",
       "            <td>Serviços</td>\n",
       "            <td>+55 (041) 3518-4019</td>\n",
       "            <td>maria-fernandacavalcanti@example.com</td>\n",
       "            <td>https://porto.com/</td>\n",
       "            <td>Aeroporto Igor Barros, 9</td>\n",
       "            <td>52509460</td>\n",
       "            <td>Trevo Pires</td>\n",
       "            <td>81</td>\n",
       "            <td>Indianópolis</td>\n",
       "            <td>Caruaru</td>\n",
       "            <td>PE</td>\n",
       "            <td>Brasil</td>\n",
       "            <td>2024-06-01</td>\n",
       "        </tr>\n",
       "    </tbody>\n",
       "</table>"
      ],
      "text/plain": [
       "[('a3a922ff-6f01-4212-a713-e0cd3cafbac9', 'Erick Sousa', '189.352.674-73', '1947-01-15', 'Feminino', 'Outro', 'Amarela', 'Ensino Médio', 'Viúvo', 'Mais de 5 salários mínimos', 'Comércio', '+55 (051) 6687 4362', 'yrocha@example.org', 'http://www.rodrigues.br/', 'Ladeira Júlia da Rosa, 30', '93829-322', 'Área Cassiano', '707', 'Agamenon Magalhães', 'Caruaru', 'PE', 'Brasil', '2024-08-20'),\n",
       " ('93400d77-f64d-4c0c-89b6-ffc4dbaab85c', 'Dr. Ravy Novais', '526.407.839-47', '1945-07-15', 'Feminino', 'Heterossexual', 'Preta', 'Ensino Superior', 'Viúvo', '3 a 5 salários mínimos', 'Comércio', '+55 (081) 2823 1474', 'ana-clara64@example.net', 'https://www.duarte.com/', 'Residencial Gustavo Henrique Dias', '96309710', 'Área Gael Henrique da Cruz', '8', 'Cidade Jardim', 'Caruaru', 'PE', 'Brasil', '2024-07-09'),\n",
       " ('f191d203-ec67-4f20-8519-c7295a8f4b46', 'Rafael da Conceição', '325.716.984-19', '1961-03-11', 'Feminino', 'Heterossexual', 'Branca', 'Ensino Fundamental', 'Divorciado', '3 a 5 salários mínimos', 'Educação', '61 7153-7983', 'maria-cecilia24@example.net', 'https://cunha.br/', 'Núcleo Santos, 5', '05128450', 'Parque de Silveira', '89', 'Jardim Panorama', 'Caruaru', 'PE', 'Brasil', '2024-07-10'),\n",
       " ('c22d3d4b-fe82-4e54-98aa-d02bc94266f8', 'Carolina Freitas', '703.492.586-00', '1990-11-08', 'Outro', 'Bissexual', 'Preta', 'Ensino Superior', 'Solteiro', '3 a 5 salários mínimos', 'Tecnologia', '61 0922 5803', 'elisasousa@example.org', 'http://www.gomes.com/', 'Quadra Lucas Gabriel Cassiano, 57', '74720-264', 'Praia de Mendes', '73', 'Petrópolis', 'Caruaru', 'PE', 'Brasil', '2024-06-04'),\n",
       " ('c2279704-3e32-4c59-9a4d-cfc8bbdc1e14', 'Ravi Barbosa', '431.270.956-43', '2002-12-29', 'Outro', 'Heterossexual', 'Parda', 'Pós-graduação', 'Divorciado', 'Mais de 5 salários mínimos', 'Serviços', '+55 (041) 3518-4019', 'maria-fernandacavalcanti@example.com', 'https://porto.com/', 'Aeroporto Igor Barros, 9', '52509460', 'Trevo Pires', '81', 'Indianópolis', 'Caruaru', 'PE', 'Brasil', '2024-06-01')]"
      ]
     },
     "execution_count": 17,
     "metadata": {},
     "output_type": "execute_result"
    }
   ],
   "source": [
    "%%sql\n",
    "SELECT *\n",
    "FROM CAD_PESSOA\n",
    "LIMIT 5"
   ]
  },
  {
   "cell_type": "markdown",
   "metadata": {
    "id": "PoygeQnBF0Yz"
   },
   "source": [
    "## Misturando as duas formas de consultar os dados"
   ]
  },
  {
   "cell_type": "code",
   "execution_count": null,
   "metadata": {
    "colab": {
     "base_uri": "https://localhost:8080/",
     "height": 550
    },
    "executionInfo": {
     "elapsed": 380,
     "status": "ok",
     "timestamp": 1724212780865,
     "user": {
      "displayName": "Tiago Henrique",
      "userId": "05859948121194844407"
     },
     "user_tz": 180
    },
    "id": "xuD4MssRFhwz",
    "outputId": "1b31438f-6003-496c-e529-1f939e8317f6"
   },
   "outputs": [],
   "source": [
    "cad_pessoa_df = %sql SELECT * FROM CAD_PESSOA\n",
    "cad_pessoa_df = cad_pessoa_df.DataFrame()\n",
    "cad_pessoa_df.head()"
   ]
  },
  {
   "cell_type": "markdown",
   "metadata": {},
   "source": [
    "## Entendendo SQL e exercitando o cérebro\n",
    "\n",
    "Vamos rever alguns conceitos básicos extremamente úteis e exercitarmos para nos familiarizarmos cada vez mais com SQL.  "
   ]
  },
  {
   "cell_type": "markdown",
   "metadata": {},
   "source": [
    "1. Cláusula SELECT e FROM\n",
    "\n",
    "A cláusula SELECT é usada para especificar quais colunas de dados você deseja recuperar de um banco de dados. Já a cláusula FROM serve para indicar a tabela ou as tabelas de onde os dados serão extraídos.\n",
    "\n",
    "Exemplo:"
   ]
  },
  {
   "cell_type": "code",
   "execution_count": 19,
   "metadata": {},
   "outputs": [
    {
     "name": "stdout",
     "output_type": "stream",
     "text": [
      " * sqlite:////home/tiago/workspace/repos/observatorio-do-amanha/sandbox/databases/sqlite_oltp_ac_fake_database.db\n",
      "Done.\n"
     ]
    },
    {
     "data": {
      "text/html": [
       "<table>\n",
       "    <thead>\n",
       "        <tr>\n",
       "            <th>NOME</th>\n",
       "            <th>CPF</th>\n",
       "        </tr>\n",
       "    </thead>\n",
       "    <tbody>\n",
       "        <tr>\n",
       "            <td>Erick Sousa</td>\n",
       "            <td>189.352.674-73</td>\n",
       "        </tr>\n",
       "        <tr>\n",
       "            <td>Dr. Ravy Novais</td>\n",
       "            <td>526.407.839-47</td>\n",
       "        </tr>\n",
       "        <tr>\n",
       "            <td>Rafael da Conceição</td>\n",
       "            <td>325.716.984-19</td>\n",
       "        </tr>\n",
       "        <tr>\n",
       "            <td>Carolina Freitas</td>\n",
       "            <td>703.492.586-00</td>\n",
       "        </tr>\n",
       "        <tr>\n",
       "            <td>Ravi Barbosa</td>\n",
       "            <td>431.270.956-43</td>\n",
       "        </tr>\n",
       "    </tbody>\n",
       "</table>"
      ],
      "text/plain": [
       "[('Erick Sousa', '189.352.674-73'),\n",
       " ('Dr. Ravy Novais', '526.407.839-47'),\n",
       " ('Rafael da Conceição', '325.716.984-19'),\n",
       " ('Carolina Freitas', '703.492.586-00'),\n",
       " ('Ravi Barbosa', '431.270.956-43')]"
      ]
     },
     "execution_count": 19,
     "metadata": {},
     "output_type": "execute_result"
    }
   ],
   "source": [
    "%%sql\n",
    "SELECT \n",
    "    NOME\n",
    "   ,CPF \n",
    "FROM CAD_PESSOA \n",
    "LIMIT 5"
   ]
  },
  {
   "cell_type": "markdown",
   "metadata": {},
   "source": [
    "Acima, selecionamos as colunas NOME e CPF da tabela CAD_PESSOA."
   ]
  },
  {
   "cell_type": "markdown",
   "metadata": {},
   "source": [
    "2. Cláusula WHERE\n",
    "\n",
    "A cláusula WHERE é usada para filtrar registros com base em uma condição específica. Somente as linhas que atendem à condição serão retornadas.\n",
    "\n",
    "Exemplo:"
   ]
  },
  {
   "cell_type": "code",
   "execution_count": 22,
   "metadata": {},
   "outputs": [
    {
     "name": "stdout",
     "output_type": "stream",
     "text": [
      " * sqlite:////home/tiago/workspace/repos/observatorio-do-amanha/sandbox/databases/sqlite_oltp_ac_fake_database.db\n",
      "Done.\n"
     ]
    },
    {
     "data": {
      "text/html": [
       "<table>\n",
       "    <thead>\n",
       "        <tr>\n",
       "            <th>NOME</th>\n",
       "            <th>ESCOLARIDADE</th>\n",
       "        </tr>\n",
       "    </thead>\n",
       "    <tbody>\n",
       "        <tr>\n",
       "            <td>Carolina Freitas</td>\n",
       "            <td>Ensino Superior</td>\n",
       "        </tr>\n",
       "    </tbody>\n",
       "</table>"
      ],
      "text/plain": [
       "[('Carolina Freitas', 'Ensino Superior')]"
      ]
     },
     "execution_count": 22,
     "metadata": {},
     "output_type": "execute_result"
    }
   ],
   "source": [
    "%%sql\n",
    "SELECT \n",
    "    NOME\n",
    "   ,ESCOLARIDADE\n",
    "FROM CAD_PESSOA\n",
    "WHERE CPF = \"703.492.586-00\""
   ]
  },
  {
   "cell_type": "markdown",
   "metadata": {},
   "source": [
    "O exemplo acima retorna NOME e ESCOLARIDADE de quando o CPF \"703.492.586-00\" for encontrado no banco. Lembre-se sempre, o nosso código cria um banco de dados com registros aleatórios, ou seja, toda vez que executamos a criaçã de um banco dados novos são criado, portanto, é provavel que o CPF utilizado no exemplo não exista na sua base de dados, ok?"
   ]
  },
  {
   "cell_type": "markdown",
   "metadata": {},
   "source": [
    "4. Cláusula JOIN\n",
    "\n",
    "A cláusula JOIN é usada para combinar registros de duas ou mais tabelas com base em uma condição relacionada entre elas.\n",
    "\n",
    "Existem diferentes tipos de JOIN:\n",
    "\n",
    "- **INNER JOIN**: Retorna os registros que têm correspondência em ambas as tabelas.\n",
    "- **LEFT JOIN**: Retorna todos os registros da tabela à esquerda e os registros correspondentes da tabela à direita. Se não houver correspondência, o resultado da tabela à direita será NULL.\n",
    "- **RIGHT JOIN**: Retorna todos os registros da tabela à direita e os registros correspondentes da tabela à esquerda. Se não houver correspondência, o resultado da tabela à esquerda será NULL.\n",
    "**FULL OUTER JOIN**: Retorna todos os registros quando há uma correspondência em uma das tabelas.\n",
    "\n",
    "Por enquanto vamos utilizar apenas o INNER JOIN, que também pode ser usado apenas com a palavra-chave JOIN.\n",
    "\n",
    "Os conceito acima, são muitos semelhantes à Teoria dos Conjuntos da matemática. \n",
    "\n",
    "Exemplo:"
   ]
  },
  {
   "cell_type": "code",
   "execution_count": 33,
   "metadata": {},
   "outputs": [
    {
     "name": "stdout",
     "output_type": "stream",
     "text": [
      " * sqlite:////home/tiago/workspace/repos/observatorio-do-amanha/sandbox/databases/sqlite_oltp_ac_fake_database.db\n",
      "Done.\n"
     ]
    },
    {
     "data": {
      "text/html": [
       "<table>\n",
       "    <thead>\n",
       "        <tr>\n",
       "            <th>ID_PESSOA</th>\n",
       "            <th>CPF</th>\n",
       "            <th>DATA_INSCRICAO</th>\n",
       "            <th>TITULO_PROGRAMA</th>\n",
       "        </tr>\n",
       "    </thead>\n",
       "    <tbody>\n",
       "        <tr>\n",
       "            <td>2c985750-095c-44b1-9b88-51ccdf7d68d8</td>\n",
       "            <td>608.175.492-85</td>\n",
       "            <td>2024-02-02</td>\n",
       "            <td>Mulheres no Alto</td>\n",
       "        </tr>\n",
       "        <tr>\n",
       "            <td>2ad1d785-6abf-45d5-a3ed-29582e1cd83a</td>\n",
       "            <td>385.249.106-15</td>\n",
       "            <td>2024-01-23</td>\n",
       "            <td>Observatório do amanhã</td>\n",
       "        </tr>\n",
       "        <tr>\n",
       "            <td>b6ce4072-8356-47b3-a0ad-221498783afe</td>\n",
       "            <td>815.342.076-35</td>\n",
       "            <td>2024-02-27</td>\n",
       "            <td>Mind the Bizz</td>\n",
       "        </tr>\n",
       "        <tr>\n",
       "            <td>3fbff1aa-0043-4e22-998f-df56880cb51a</td>\n",
       "            <td>673.421.095-25</td>\n",
       "            <td>2024-05-18</td>\n",
       "            <td>Ciclo de inovação aberta</td>\n",
       "        </tr>\n",
       "        <tr>\n",
       "            <td>d73442ef-e493-48eb-8a2c-675a74c2e628</td>\n",
       "            <td>126.759.380-68</td>\n",
       "            <td>2024-03-04</td>\n",
       "            <td>Desafios de sustentabilidade</td>\n",
       "        </tr>\n",
       "    </tbody>\n",
       "</table>"
      ],
      "text/plain": [
       "[('2c985750-095c-44b1-9b88-51ccdf7d68d8', '608.175.492-85', '2024-02-02', 'Mulheres no Alto'),\n",
       " ('2ad1d785-6abf-45d5-a3ed-29582e1cd83a', '385.249.106-15', '2024-01-23', 'Observatório do amanhã'),\n",
       " ('b6ce4072-8356-47b3-a0ad-221498783afe', '815.342.076-35', '2024-02-27', 'Mind the Bizz'),\n",
       " ('3fbff1aa-0043-4e22-998f-df56880cb51a', '673.421.095-25', '2024-05-18', 'Ciclo de inovação aberta'),\n",
       " ('d73442ef-e493-48eb-8a2c-675a74c2e628', '126.759.380-68', '2024-03-04', 'Desafios de sustentabilidade')]"
      ]
     },
     "execution_count": 33,
     "metadata": {},
     "output_type": "execute_result"
    }
   ],
   "source": [
    "%%sql\n",
    "SELECT \n",
    "    C.ID_PESSOA\n",
    "   ,C.CPF\n",
    "   ,I.DATA_INSCRICAO\n",
    "   ,P.TITULO_PROGRAMA\n",
    "FROM CAD_PESSOA AS C\n",
    "JOIN INSCRICOES AS I\n",
    "ON C.ID_PESSOA = I.ID_PESSOA\n",
    "JOIN PARTICIPANTE_PROGRAMA AS PP\n",
    "ON I.ID_INSCRICAO = PP.ID_INSCRICAO\n",
    "JOIN PROGRAMAS AS P \n",
    "ON PP.ID_PROGRAMA = P.ID_PROGRAMA\n",
    "LIMIT 5"
   ]
  },
  {
   "cell_type": "markdown",
   "metadata": {},
   "source": [
    "No exemplo acima, eu seleciono os registros que asassociam pessoas cadastradas em CAD_PESSOA aos programas em que estão inscritas. A consulta retorna o ID_PESSOA, o CPF da pessoa, a DATA_INSCRICAO no programa, e o TITULO_PROGRAMA. Para isso, a query faz junções entre as tabelas CAD_PESSOA, INSCRICOES, PARTICIPANTE_PROGRAMA e PROGRAMAS, conectando as inscrições de pessoas aos respectivos programas em que participaram."
   ]
  },
  {
   "cell_type": "markdown",
   "metadata": {},
   "source": [
    "## Exercícios!!"
   ]
  },
  {
   "cell_type": "markdown",
   "metadata": {},
   "source": [
    "1. Liste o nome das pessoas e o nome dos domínios relacionados aos programas nos quais elas estão inscritas, onde o domínio é \"Inovação Aberta\"."
   ]
  },
  {
   "cell_type": "code",
   "execution_count": null,
   "metadata": {},
   "outputs": [],
   "source": []
  },
  {
   "cell_type": "markdown",
   "metadata": {},
   "source": [
    "2. Selecione o nome das pessoas que fizeram agendamentos de serviços nos últimos 30 dias."
   ]
  },
  {
   "cell_type": "code",
   "execution_count": null,
   "metadata": {},
   "outputs": [],
   "source": []
  },
  {
   "cell_type": "markdown",
   "metadata": {},
   "source": [
    "3. Liste o nome das pessoas participantes de programas e seus respectivos bairros."
   ]
  },
  {
   "cell_type": "code",
   "execution_count": null,
   "metadata": {},
   "outputs": [],
   "source": []
  }
 ],
 "metadata": {
  "colab": {
   "provenance": []
  },
  "kernelspec": {
   "display_name": "Python 3 (ipykernel)",
   "language": "python",
   "name": "python3"
  },
  "language_info": {
   "codemirror_mode": {
    "name": "ipython",
    "version": 3
   },
   "file_extension": ".py",
   "mimetype": "text/x-python",
   "name": "python",
   "nbconvert_exporter": "python",
   "pygments_lexer": "ipython3",
   "version": "3.12.4"
  }
 },
 "nbformat": 4,
 "nbformat_minor": 4
}
